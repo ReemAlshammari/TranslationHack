{
 "cells": [
  {
   "cell_type": "markdown",
   "id": "cbb49a12",
   "metadata": {},
   "source": [
    "# تصنيف النص بحسب النوع زمنياً و المنطقة للعامية"
   ]
  },
  {
   "cell_type": "markdown",
   "id": "9072dc22",
   "metadata": {},
   "source": [
    "تصنيف الكلمة زمانياً حديث أو قديم ، وإذا كان عامي يتم تنصنيفه مكانياً"
   ]
  },
  {
   "cell_type": "markdown",
   "id": "5e602c12",
   "metadata": {},
   "source": [
    "## Categories:"
   ]
  },
  {
   "cell_type": "markdown",
   "id": "31b0ae1f",
   "metadata": {},
   "source": [
    "* العربي القديم\n",
    "* العربي الحديث\n",
    "    * المنطقة\n",
    "        * ضمن السعودية \n",
    "        * سعودي ، مصري ..."
   ]
  },
  {
   "cell_type": "code",
   "execution_count": 19,
   "id": "8b93bb62",
   "metadata": {},
   "outputs": [],
   "source": [
    "User_word='متباطئ';\n",
    "#The user words will be send to the machine learning model to be classyfied \n",
    "machine_learning_model_output='classic'\n",
    "machine_learning_model_output='classic';"
   ]
  },
  {
   "cell_type": "code",
   "execution_count": 20,
   "id": "b02c3099",
   "metadata": {},
   "outputs": [],
   "source": [
    "#Array of tokenz example\n",
    "Modren_standerd_Arabic_sentences=['بواسطة','من قبل ','' ]\n",
    "\n",
    "classic_standerd_Arabic_sentences=[ 'أمرت','الأسواق', 'و', 'المراكز', 'التجارية'      ]"
   ]
  },
  {
   "cell_type": "code",
   "execution_count": 21,
   "id": "0e819e61",
   "metadata": {},
   "outputs": [],
   "source": [
    "def return_Classic_Sentence_for_thisword(User_word):\n",
    "    return 'متباطئ في عمله'\n",
    "def return_Modern_Sentence_for_thisword(User_word):\n",
    "    return 'كتب الكتاب من قبل'\n",
    "def return_Slang_Sentence_for_thisword(User_word):\n",
    "    return 'أقوى جحفلة في تاريخ الكورة'"
   ]
  },
  {
   "cell_type": "code",
   "execution_count": 22,
   "id": "4f865cf6",
   "metadata": {},
   "outputs": [],
   "source": [
    "if user_wordـclass =='classic':\n",
    "    Documents_classic=return_Classic_Sentence_for_thisword(User_word);\n",
    "if user_wordـclass == 'modern':\n",
    "    Documents_modern=return_Modern_Sentence_for_thisword(User_word);\n",
    "if User_wordـclass =='slang':\n",
    "    Documents_slang=return_Slang_Sentence_for_thisword(User_word);"
   ]
  },
  {
   "cell_type": "code",
   "execution_count": 24,
   "id": "1f775ea5",
   "metadata": {},
   "outputs": [
    {
     "name": "stdout",
     "output_type": "stream",
     "text": [
      "متباطئ في عمله\n"
     ]
    }
   ],
   "source": [
    "print(Documents_classic)"
   ]
  },
  {
   "cell_type": "code",
   "execution_count": null,
   "id": "8a74c27c",
   "metadata": {},
   "outputs": [],
   "source": []
  }
 ],
 "metadata": {
  "kernelspec": {
   "display_name": "Python 3 (ipykernel)",
   "language": "python",
   "name": "python3"
  },
  "language_info": {
   "codemirror_mode": {
    "name": "ipython",
    "version": 3
   },
   "file_extension": ".py",
   "mimetype": "text/x-python",
   "name": "python",
   "nbconvert_exporter": "python",
   "pygments_lexer": "ipython3",
   "version": "3.9.12"
  }
 },
 "nbformat": 4,
 "nbformat_minor": 5
}
